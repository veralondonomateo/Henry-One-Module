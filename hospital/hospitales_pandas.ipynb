{
 "cells": [
  {
   "cell_type": "code",
   "execution_count": 4,
   "metadata": {},
   "outputs": [
    {
     "data": {
      "text/plain": [
       "1330"
      ]
     },
     "execution_count": 4,
     "metadata": {},
     "output_type": "execute_result"
    }
   ],
   "source": [
    "import pandas as pd\n",
    "\n",
    "hospitales = pd.read_csv(\"hospitales2.csv\", sep= \",\")\n",
    "\n",
    "hospitales[\"ALTURA\"][1]"
   ]
  },
  {
   "cell_type": "code",
   "execution_count": 43,
   "metadata": {},
   "outputs": [
    {
     "data": {
      "text/plain": [
       "<_io.TextIOWrapper name='hospitales2.csv' mode='r' encoding='utf-8'>"
      ]
     },
     "execution_count": 43,
     "metadata": {},
     "output_type": "execute_result"
    }
   ],
   "source": [
    "import csv\n",
    "archivo = open(\"hospitales2.csv\",encoding=\"utf-8\")\n",
    "archivo\n"
   ]
  },
  {
   "cell_type": "code",
   "execution_count": 13,
   "metadata": {},
   "outputs": [],
   "source": [
    "for line in archivo:\n",
    "    print(line)\n",
    "\n"
   ]
  },
  {
   "cell_type": "code",
   "execution_count": 25,
   "metadata": {},
   "outputs": [],
   "source": [
    "tabla = csv.reader(archivo, delimiter= \",\")\n",
    "for linea in tabla:\n",
    "    print(linea)"
   ]
  },
  {
   "cell_type": "code",
   "execution_count": 45,
   "metadata": {},
   "outputs": [],
   "source": [
    "import csv\n",
    "archivo = open(\"/Users/mateovera/Documents/Programación/HENRY/hospitales2.csv\",encoding=\"utf-8\")\n",
    "tabla = csv.reader(archivo, delimiter= \",\")\n",
    "with open(\"hospitales_salida.csv\", \"w\",encoding=\"utf-8\") as salida:\n",
    "    salida_writer = csv.writer(salida, delimiter= \",\")\n",
    "    salida_writer.writerow([\"Latitude\",\"Longitude\", \"name\", \"label\"])\n",
    "\n",
    "    for linea in tabla:\n",
    "        coordenada = linea[0][7:-1].split()\n",
    "        salida_writer.writerow(coordenada[1],coordenada[0],linea[8],linea[2])\n",
    "archivo.close()\n",
    "\n"
   ]
  },
  {
   "cell_type": "code",
   "execution_count": 1,
   "metadata": {},
   "outputs": [],
   "source": [
    "import pandas as pd"
   ]
  },
  {
   "cell_type": "code",
   "execution_count": 14,
   "metadata": {},
   "outputs": [],
   "source": [
    "df = pd.read_csv(\"hospitales2.csv\",encoding=\"utf-8\")"
   ]
  },
  {
   "cell_type": "code",
   "execution_count": 15,
   "metadata": {},
   "outputs": [],
   "source": [
    "coordenada = [i.split() for i in df[\"WKT\"]]\n",
    "longitud = [float(i[1].strip(\"(\")) for i in coordenada]\n",
    "latitud = [float(i[2].strip(\")\")) for i in coordenada]\n",
    "\n",
    "diccionario = dict(latitude = latitud, longitude = longitud, name = df['DOM_GEO'], label = df[\"NOM_MAP\"])\n",
    "\n",
    "\n",
    "df = pd.DataFrame(diccionario).to_csv(\"hospitales_salida_2.csv\",sep=';', index = False)\n"
   ]
  }
 ],
 "metadata": {
  "kernelspec": {
   "display_name": "Python 3",
   "language": "python",
   "name": "python3"
  },
  "language_info": {
   "codemirror_mode": {
    "name": "ipython",
    "version": 3
   },
   "file_extension": ".py",
   "mimetype": "text/x-python",
   "name": "python",
   "nbconvert_exporter": "python",
   "pygments_lexer": "ipython3",
   "version": "3.11.4"
  }
 },
 "nbformat": 4,
 "nbformat_minor": 2
}
