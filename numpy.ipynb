{
 "cells": [
  {
   "cell_type": "code",
   "execution_count": 2,
   "metadata": {},
   "outputs": [
    {
     "name": "stdout",
     "output_type": "stream",
     "text": [
      "Requirement already satisfied: numpy in /opt/homebrew/lib/python3.11/site-packages (1.25.2)\n",
      "\n",
      "\u001b[1m[\u001b[0m\u001b[34;49mnotice\u001b[0m\u001b[1;39;49m]\u001b[0m\u001b[39;49m A new release of pip is available: \u001b[0m\u001b[31;49m23.2.1\u001b[0m\u001b[39;49m -> \u001b[0m\u001b[32;49m23.3.2\u001b[0m\n",
      "\u001b[1m[\u001b[0m\u001b[34;49mnotice\u001b[0m\u001b[1;39;49m]\u001b[0m\u001b[39;49m To update, run: \u001b[0m\u001b[32;49mpython3.11 -m pip install --upgrade pip\u001b[0m\n",
      "Note: you may need to restart the kernel to use updated packages.\n",
      "[1 2 3 4 5 6] [2 3 4 5 6 7 8 9]\n"
     ]
    }
   ],
   "source": [
    "%pip install numpy\n",
    "import numpy as np\n",
    "lista = [1,2,3,4,5,6]\n",
    "array = np.array(lista)\n",
    "array2 = np.arange(start = 2, stop = 10, step = 1)\n",
    "print(array,array2)"
   ]
  },
  {
   "cell_type": "code",
   "execution_count": 3,
   "metadata": {},
   "outputs": [
    {
     "name": "stdout",
     "output_type": "stream",
     "text": [
      "[ 1.          1.8989899   2.7979798   3.6969697   4.5959596   5.49494949\n",
      "  6.39393939  7.29292929  8.19191919  9.09090909  9.98989899 10.88888889\n",
      " 11.78787879 12.68686869 13.58585859 14.48484848 15.38383838 16.28282828\n",
      " 17.18181818 18.08080808 18.97979798 19.87878788 20.77777778 21.67676768\n",
      " 22.57575758 23.47474747 24.37373737 25.27272727 26.17171717 27.07070707\n",
      " 27.96969697 28.86868687 29.76767677 30.66666667 31.56565657 32.46464646\n",
      " 33.36363636 34.26262626 35.16161616 36.06060606 36.95959596 37.85858586\n",
      " 38.75757576 39.65656566 40.55555556 41.45454545 42.35353535 43.25252525\n",
      " 44.15151515 45.05050505 45.94949495 46.84848485 47.74747475 48.64646465\n",
      " 49.54545455 50.44444444 51.34343434 52.24242424 53.14141414 54.04040404\n",
      " 54.93939394 55.83838384 56.73737374 57.63636364 58.53535354 59.43434343\n",
      " 60.33333333 61.23232323 62.13131313 63.03030303 63.92929293 64.82828283\n",
      " 65.72727273 66.62626263 67.52525253 68.42424242 69.32323232 70.22222222\n",
      " 71.12121212 72.02020202 72.91919192 73.81818182 74.71717172 75.61616162\n",
      " 76.51515152 77.41414141 78.31313131 79.21212121 80.11111111 81.01010101\n",
      " 81.90909091 82.80808081 83.70707071 84.60606061 85.50505051 86.4040404\n",
      " 87.3030303  88.2020202  89.1010101  90.        ]\n"
     ]
    }
   ],
   "source": [
    "arr = np.linspace(start = 1,stop = 90, num = 100)\n",
    "print(arr)"
   ]
  },
  {
   "cell_type": "code",
   "execution_count": 4,
   "metadata": {},
   "outputs": [
    {
     "name": "stdout",
     "output_type": "stream",
     "text": [
      "[0. 0. 0. 0. 0. 0. 0. 0. 0. 0.]\n"
     ]
    }
   ],
   "source": [
    "arr = np.zeros(10)\n",
    "print(arr)"
   ]
  },
  {
   "cell_type": "code",
   "execution_count": 10,
   "metadata": {},
   "outputs": [
    {
     "ename": "TypeError",
     "evalue": "full() got an unexpected keyword argument 'full_value'",
     "output_type": "error",
     "traceback": [
      "\u001b[0;31m---------------------------------------------------------------------------\u001b[0m",
      "\u001b[0;31mTypeError\u001b[0m                                 Traceback (most recent call last)",
      "\u001b[0;32m/var/folders/sv/bpprx5pd6rj_5f0r23x0k3hr0000gn/T/ipykernel_83449/3984923133.py\u001b[0m in \u001b[0;36m<cell line: 0>\u001b[0;34m()\u001b[0m\n\u001b[0;32m----> 1\u001b[0;31m \u001b[0marr\u001b[0m \u001b[0;34m=\u001b[0m \u001b[0mnp\u001b[0m\u001b[0;34m.\u001b[0m\u001b[0mfull\u001b[0m\u001b[0;34m(\u001b[0m\u001b[0mshape\u001b[0m\u001b[0;34m=\u001b[0m\u001b[0;34m(\u001b[0m\u001b[0;36m4\u001b[0m\u001b[0;34m,\u001b[0m\u001b[0;36m2\u001b[0m\u001b[0;34m)\u001b[0m\u001b[0;34m,\u001b[0m \u001b[0mfull_value\u001b[0m\u001b[0;34m=\u001b[0m \u001b[0;36m2\u001b[0m\u001b[0;34m)\u001b[0m\u001b[0;34m\u001b[0m\u001b[0;34m\u001b[0m\u001b[0m\n\u001b[0m\u001b[1;32m      2\u001b[0m \u001b[0mprint\u001b[0m\u001b[0;34m(\u001b[0m\u001b[0marr\u001b[0m\u001b[0;34m)\u001b[0m\u001b[0;34m\u001b[0m\u001b[0;34m\u001b[0m\u001b[0m\n",
      "\u001b[0;31mTypeError\u001b[0m: full() got an unexpected keyword argument 'full_value'"
     ]
    }
   ],
   "source": [
    "arr = np.full(shape=(4,2), full_value= 2)\n",
    "print(arr)"
   ]
  },
  {
   "cell_type": "code",
   "execution_count": 12,
   "metadata": {},
   "outputs": [
    {
     "name": "stdout",
     "output_type": "stream",
     "text": [
      "[[5. 5. 5. 5. 5. 5.]\n",
      " [5. 5. 5. 5. 5. 5.]\n",
      " [5. 5. 5. 5. 5. 5.]]\n"
     ]
    }
   ],
   "source": [
    "base = np.full(shape = (3,6), fill_value= 4.41)\n",
    "print(np.full_like(base,5))"
   ]
  },
  {
   "cell_type": "code",
   "execution_count": 13,
   "metadata": {},
   "outputs": [
    {
     "data": {
      "text/plain": [
       "array([[0.31504937, 0.64143715],\n",
       "       [0.47030545, 0.90760777],\n",
       "       [0.44075615, 0.63049182],\n",
       "       [0.08048321, 0.3712616 ]])"
      ]
     },
     "execution_count": 13,
     "metadata": {},
     "output_type": "execute_result"
    }
   ],
   "source": [
    "#Crear array con numeros aleatorios\n",
    "np.random.rand(4,2)\n"
   ]
  },
  {
   "cell_type": "code",
   "execution_count": 14,
   "metadata": {},
   "outputs": [
    {
     "ename": "TypeError",
     "evalue": "uniform() got an unexpected keyword argument 'len'",
     "output_type": "error",
     "traceback": [
      "\u001b[0;31m---------------------------------------------------------------------------\u001b[0m",
      "\u001b[0;31mTypeError\u001b[0m                                 Traceback (most recent call last)",
      "\u001b[0;32m/var/folders/sv/bpprx5pd6rj_5f0r23x0k3hr0000gn/T/ipykernel_83449/2846174659.py\u001b[0m in \u001b[0;36m<cell line: 0>\u001b[0;34m()\u001b[0m\n\u001b[0;32m----> 1\u001b[0;31m \u001b[0marr\u001b[0m \u001b[0;34m=\u001b[0m \u001b[0mnp\u001b[0m\u001b[0;34m.\u001b[0m\u001b[0mrandom\u001b[0m\u001b[0;34m.\u001b[0m\u001b[0muniform\u001b[0m\u001b[0;34m(\u001b[0m\u001b[0mlen\u001b[0m \u001b[0;34m=\u001b[0m \u001b[0;36m0\u001b[0m\u001b[0;34m,\u001b[0m\u001b[0mhigh\u001b[0m\u001b[0;34m=\u001b[0m\u001b[0;36m4\u001b[0m\u001b[0;34m,\u001b[0m\u001b[0msize\u001b[0m\u001b[0;34m=\u001b[0m\u001b[0;34m(\u001b[0m\u001b[0;36m4\u001b[0m\u001b[0;34m,\u001b[0m\u001b[0;36m4\u001b[0m\u001b[0;34m)\u001b[0m\u001b[0;34m)\u001b[0m\u001b[0;34m\u001b[0m\u001b[0;34m\u001b[0m\u001b[0m\n\u001b[0m",
      "\u001b[0;32mmtrand.pyx\u001b[0m in \u001b[0;36mnumpy.random.mtrand.RandomState.uniform\u001b[0;34m()\u001b[0m\n",
      "\u001b[0;31mTypeError\u001b[0m: uniform() got an unexpected keyword argument 'len'"
     ]
    }
   ],
   "source": [
    "arr = np.random.uniform(len = 0,high=4,size=(4,4))"
   ]
  },
  {
   "cell_type": "code",
   "execution_count": 81,
   "metadata": {},
   "outputs": [
    {
     "data": {
      "text/plain": [
       "array([[0.93178896, 0.41648509, 0.88062169, 0.04009287, 0.85042297],\n",
       "       [0.5703474 , 0.65370645, 0.73380001, 0.58962707, 0.22171597],\n",
       "       [0.12413383, 0.32910392, 0.47013847, 0.81606966, 0.20352798],\n",
       "       [0.23467115, 0.3917764 , 0.93142014, 0.21068699, 0.84013694],\n",
       "       [0.17678272, 0.66867056, 0.76493656, 0.07488871, 0.38402817]])"
      ]
     },
     "execution_count": 81,
     "metadata": {},
     "output_type": "execute_result"
    }
   ],
   "source": [
    "np.random.rand(5,5)"
   ]
  },
  {
   "cell_type": "code",
   "execution_count": 17,
   "metadata": {},
   "outputs": [
    {
     "data": {
      "text/plain": [
       "array([6.30905928, 4.17730584, 7.66681801, 5.94688752, 5.16213905,\n",
       "       2.89522996])"
      ]
     },
     "execution_count": 17,
     "metadata": {},
     "output_type": "execute_result"
    }
   ],
   "source": [
    "np.random.normal(loc= 5,scale=1,size=6)"
   ]
  },
  {
   "cell_type": "code",
   "execution_count": 18,
   "metadata": {},
   "outputs": [
    {
     "name": "stdout",
     "output_type": "stream",
     "text": [
      "(9,)\n"
     ]
    }
   ],
   "source": [
    "arr = np.zeros(9)\n",
    "print(arr.shape)"
   ]
  },
  {
   "cell_type": "code",
   "execution_count": 20,
   "metadata": {},
   "outputs": [
    {
     "name": "stdout",
     "output_type": "stream",
     "text": [
      "[[0. 0. 0.]\n",
      " [0. 0. 0.]\n",
      " [0. 0. 0.]]\n",
      "(3, 3)\n"
     ]
    }
   ],
   "source": [
    "b = np.reshape(arr,[3,3])\n",
    "print(b)\n",
    "print(b.shape)"
   ]
  },
  {
   "cell_type": "code",
   "execution_count": 26,
   "metadata": {},
   "outputs": [
    {
     "name": "stdout",
     "output_type": "stream",
     "text": [
      "[[ 0  1  2  3]\n",
      " [ 4  5  6  7]\n",
      " [ 8  9 10 11]\n",
      " [12 13 14 15]]\n",
      "1\n",
      "5\n"
     ]
    }
   ],
   "source": [
    "matrix = np.arange(16).reshape(4,4)\n",
    "print(matrix)\n",
    "print(matrix[0,1])\n",
    "print(matrix[1,1])"
   ]
  },
  {
   "cell_type": "code",
   "execution_count": 28,
   "metadata": {},
   "outputs": [
    {
     "name": "stdout",
     "output_type": "stream",
     "text": [
      "[ 2  6 10 14]\n"
     ]
    }
   ],
   "source": [
    "print(matrix[:,2])"
   ]
  },
  {
   "cell_type": "code",
   "execution_count": 30,
   "metadata": {},
   "outputs": [
    {
     "name": "stdout",
     "output_type": "stream",
     "text": [
      "5034154320\n",
      "4475144016\n"
     ]
    }
   ],
   "source": [
    "#copiar una matrix\n",
    "matrixb = matrix.copy()\n",
    "print(id(matrix))\n",
    "print(id(matrixb))"
   ]
  },
  {
   "cell_type": "code",
   "execution_count": 34,
   "metadata": {},
   "outputs": [
    {
     "name": "stdout",
     "output_type": "stream",
     "text": [
      "[5 6 7 8 9]\n",
      "[-5 -4 -3 -2 -1]\n",
      "[10 11 12 13 14]\n"
     ]
    }
   ],
   "source": [
    "#Operaciones con arrays\n",
    "a = np.arange(5,10)\n",
    "print(a)\n",
    "print(a - 10)\n",
    "print(a +  5)"
   ]
  },
  {
   "cell_type": "code",
   "execution_count": 38,
   "metadata": {},
   "outputs": [
    {
     "name": "stdout",
     "output_type": "stream",
     "text": [
      "[3 3 3]\n",
      "[1 1 1]\n",
      "[4 4 4]\n"
     ]
    }
   ],
   "source": [
    "a = np.full(3,3)\n",
    "c = np.ones(3,dtype=\"int\")\n",
    "print(a)\n",
    "print(c)\n",
    "print(a + c)"
   ]
  },
  {
   "cell_type": "code",
   "execution_count": 40,
   "metadata": {},
   "outputs": [
    {
     "name": "stdout",
     "output_type": "stream",
     "text": [
      "9\n"
     ]
    }
   ],
   "source": [
    "#Multiplicaciones \n",
    "\n",
    "print(np.matmul(a,c))"
   ]
  },
  {
   "cell_type": "code",
   "execution_count": 42,
   "metadata": {},
   "outputs": [
    {
     "name": "stdout",
     "output_type": "stream",
     "text": [
      "(3, 2)\n",
      "(2, 5)\n",
      "[[20 25 30 35 40]\n",
      " [20 25 30 35 40]\n",
      " [20 25 30 35 40]]\n"
     ]
    }
   ],
   "source": [
    "A = np.array([[2,3],[2,3],[2,3]])\n",
    "B = np.array([[1,2,3,4,5],[6,7,8,9,10]])\n",
    "print(A.shape)\n",
    "print(B.shape)\n",
    "\n",
    "print(np.matmul(A,B))"
   ]
  },
  {
   "cell_type": "code",
   "execution_count": 43,
   "metadata": {},
   "outputs": [
    {
     "name": "stdout",
     "output_type": "stream",
     "text": [
      "[[2 3]\n",
      " [2 3]\n",
      " [2 3]]\n",
      "**********\n",
      "[[2 2 2]\n",
      " [3 3 3]]\n"
     ]
    }
   ],
   "source": [
    "print(A)\n",
    "print('*'*10)\n",
    "print(A.T)"
   ]
  },
  {
   "cell_type": "code",
   "execution_count": 50,
   "metadata": {},
   "outputs": [
    {
     "name": "stdout",
     "output_type": "stream",
     "text": [
      "51.0\n",
      "51.0\n",
      "27.70679820308847\n",
      "88.60000000000001\n",
      "[5.45981500e+01 4.03428793e+02 2.98095799e+03 2.20264658e+04\n",
      " 1.62754791e+05 1.20260428e+06 8.88611052e+06 6.56599691e+07\n",
      " 4.85165195e+08 3.58491285e+09 2.64891221e+10 1.95729609e+11\n",
      " 1.44625706e+12 1.06864746e+13 7.89629602e+13 5.83461743e+14\n",
      " 4.31123155e+15 3.18559318e+16 2.35385267e+17 1.73927494e+18\n",
      " 1.28516001e+19 9.49611942e+19 7.01673591e+20 5.18470553e+21\n",
      " 3.83100800e+22 2.83075330e+23 2.09165950e+24 1.54553894e+25\n",
      " 1.14200739e+26 8.43835667e+26 6.23514908e+27 4.60718663e+28\n",
      " 3.40427605e+29 2.51543867e+30 1.85867175e+31 1.37338298e+32\n",
      " 1.01480039e+33 7.49841700e+33 5.54062238e+34 4.09399696e+35\n",
      " 3.02507732e+36 2.23524660e+37 1.65163625e+38 1.22040329e+39\n",
      " 9.01762841e+39 6.66317622e+40 4.92345829e+41 3.63797095e+42]\n"
     ]
    }
   ],
   "source": [
    "#ESTADISTICA ********\n",
    "lista = [i for i in range(4,99,2)]\n",
    "#print(lista)\n",
    "print(np.mean(lista))\n",
    "print(np.median(lista))\n",
    "print(np.std(lista))\n",
    "print(np.percentile(lista,q=90))\n",
    "print(np.exp(lista))"
   ]
  },
  {
   "cell_type": "code",
   "execution_count": 53,
   "metadata": {},
   "outputs": [
    {
     "name": "stdout",
     "output_type": "stream",
     "text": [
      "[1.38629436 1.79175947 2.07944154 2.30258509 2.48490665 2.63905733\n",
      " 2.77258872 2.89037176 2.99573227 3.09104245 3.17805383 3.25809654\n",
      " 3.33220451 3.40119738 3.4657359  3.52636052 3.58351894 3.63758616\n",
      " 3.68887945 3.73766962 3.78418963 3.8286414  3.87120101 3.91202301\n",
      " 3.95124372 3.98898405 4.02535169 4.06044301 4.09434456 4.12713439\n",
      " 4.15888308 4.18965474 4.21950771 4.24849524 4.27666612 4.30406509\n",
      " 4.33073334 4.35670883 4.38202663 4.40671925 4.4308168  4.4543473\n",
      " 4.47733681 4.49980967 4.52178858 4.54329478 4.56434819 4.58496748]\n",
      "----------\n",
      "[2.         2.44948974 2.82842712 3.16227766 3.46410162 3.74165739\n",
      " 4.         4.24264069 4.47213595 4.69041576 4.89897949 5.09901951\n",
      " 5.29150262 5.47722558 5.65685425 5.83095189 6.         6.164414\n",
      " 6.32455532 6.4807407  6.63324958 6.78232998 6.92820323 7.07106781\n",
      " 7.21110255 7.34846923 7.48331477 7.61577311 7.74596669 7.87400787\n",
      " 8.         8.1240384  8.24621125 8.36660027 8.48528137 8.60232527\n",
      " 8.71779789 8.83176087 8.94427191 9.05538514 9.16515139 9.2736185\n",
      " 9.38083152 9.48683298 9.59166305 9.69535971 9.79795897 9.89949494]\n"
     ]
    }
   ],
   "source": [
    "print(np.log(lista))\n",
    "print('-' * 10)\n",
    "print(np.sqrt(lista))"
   ]
  },
  {
   "cell_type": "code",
   "execution_count": 55,
   "metadata": {},
   "outputs": [
    {
     "ename": "TypeError",
     "evalue": "uniform() got an unexpected keyword argument 'heigth'",
     "output_type": "error",
     "traceback": [
      "\u001b[0;31m---------------------------------------------------------------------------\u001b[0m",
      "\u001b[0;31mTypeError\u001b[0m                                 Traceback (most recent call last)",
      "\u001b[0;32m/var/folders/sv/bpprx5pd6rj_5f0r23x0k3hr0000gn/T/ipykernel_83449/1219440162.py\u001b[0m in \u001b[0;36m<cell line: 0>\u001b[0;34m()\u001b[0m\n\u001b[0;32m----> 1\u001b[0;31m \u001b[0ma\u001b[0m \u001b[0;34m=\u001b[0m \u001b[0mnp\u001b[0m\u001b[0;34m.\u001b[0m\u001b[0mrandom\u001b[0m\u001b[0;34m.\u001b[0m\u001b[0muniform\u001b[0m\u001b[0;34m(\u001b[0m\u001b[0mlow\u001b[0m\u001b[0;34m=\u001b[0m \u001b[0;36m1.9\u001b[0m\u001b[0;34m,\u001b[0m \u001b[0mheigth\u001b[0m \u001b[0;34m=\u001b[0m \u001b[0;36m2.0\u001b[0m\u001b[0;34m,\u001b[0m \u001b[0msize\u001b[0m \u001b[0;34m=\u001b[0m \u001b[0;36m12\u001b[0m\u001b[0;34m)\u001b[0m\u001b[0;34m\u001b[0m\u001b[0;34m\u001b[0m\u001b[0m\n\u001b[0m\u001b[1;32m      2\u001b[0m \u001b[0mb\u001b[0m \u001b[0;34m=\u001b[0m \u001b[0mnp\u001b[0m\u001b[0;34m.\u001b[0m\u001b[0mrandom\u001b[0m\u001b[0;34m.\u001b[0m\u001b[0muniform\u001b[0m\u001b[0;34m(\u001b[0m\u001b[0mlow\u001b[0m\u001b[0;34m=\u001b[0m \u001b[0;36m1.4\u001b[0m\u001b[0;34m,\u001b[0m \u001b[0mheigth\u001b[0m \u001b[0;34m=\u001b[0m \u001b[0;36m2.0\u001b[0m\u001b[0;34m,\u001b[0m \u001b[0msize\u001b[0m \u001b[0;34m=\u001b[0m \u001b[0;36m12\u001b[0m\u001b[0;34m)\u001b[0m\u001b[0;34m\u001b[0m\u001b[0;34m\u001b[0m\u001b[0m\n\u001b[1;32m      3\u001b[0m \u001b[0mprint\u001b[0m\u001b[0;34m(\u001b[0m\u001b[0ma\u001b[0m\u001b[0;34m)\u001b[0m\u001b[0;34m\u001b[0m\u001b[0;34m\u001b[0m\u001b[0m\n\u001b[1;32m      4\u001b[0m \u001b[0mprint\u001b[0m\u001b[0;34m(\u001b[0m\u001b[0mb\u001b[0m\u001b[0;34m)\u001b[0m\u001b[0;34m\u001b[0m\u001b[0;34m\u001b[0m\u001b[0m\n",
      "\u001b[0;32mmtrand.pyx\u001b[0m in \u001b[0;36mnumpy.random.mtrand.RandomState.uniform\u001b[0;34m()\u001b[0m\n",
      "\u001b[0;31mTypeError\u001b[0m: uniform() got an unexpected keyword argument 'heigth'"
     ]
    }
   ],
   "source": [
    "a = np.random.uniform(low= 1.9, heigth = 2.0, size = 12)\n",
    "b = np.random.uniform(low= 1.4, heigth = 2.0, size = 12)\n",
    "print(a)\n",
    "print(b)"
   ]
  },
  {
   "cell_type": "markdown",
   "metadata": {},
   "source": []
  },
  {
   "cell_type": "code",
   "execution_count": 65,
   "metadata": {},
   "outputs": [
    {
     "name": "stdout",
     "output_type": "stream",
     "text": [
      "[[ 0  1  2  3  4  5  6  7  8  9]\n",
      " [10 11 12 13 14 15 16 17 18 19]]\n"
     ]
    }
   ],
   "source": [
    "#Mascaras\n",
    "a = np.arange(0,20).reshape(2,10)\n",
    "print(a)"
   ]
  },
  {
   "cell_type": "code",
   "execution_count": 92,
   "metadata": {},
   "outputs": [
    {
     "name": "stdout",
     "output_type": "stream",
     "text": [
      "[array([[ True, False,  True, False,  True, False,  True, False,  True,\n",
      "        False],\n",
      "       [ True, False,  True, False,  True, False,  True, False,  True,\n",
      "        False]])]\n"
     ]
    }
   ],
   "source": [
    "mask = ([a % 2] == 0)\n",
    "print([a % 2 == 0])"
   ]
  },
  {
   "cell_type": "code",
   "execution_count": 72,
   "metadata": {},
   "outputs": [
    {
     "name": "stdout",
     "output_type": "stream",
     "text": [
      "[ 1  3  5  7  9 11 13 15 17 19]\n"
     ]
    },
    {
     "data": {
      "text/plain": [
       "(10,)"
      ]
     },
     "execution_count": 72,
     "metadata": {},
     "output_type": "execute_result"
    }
   ],
   "source": [
    "array = np.arange(start=1,stop=20,step = 2)\n",
    "print(array)\n",
    "array.shape"
   ]
  },
  {
   "cell_type": "code",
   "execution_count": 80,
   "metadata": {},
   "outputs": [
    {
     "name": "stdout",
     "output_type": "stream",
     "text": [
      "3\n",
      "[[[6 6 6 6]\n",
      "  [6 6 6 6]\n",
      "  [6 6 6 6]\n",
      "  [6 6 6 6]]\n",
      "\n",
      " [[6 6 6 6]\n",
      "  [6 6 6 6]\n",
      "  [6 6 6 6]\n",
      "  [6 6 6 6]]\n",
      "\n",
      " [[6 6 6 6]\n",
      "  [6 6 6 6]\n",
      "  [6 6 6 6]\n",
      "  [6 6 6 6]]\n",
      "\n",
      " [[6 6 6 6]\n",
      "  [6 6 6 6]\n",
      "  [6 6 6 6]\n",
      "  [6 6 6 6]]]\n"
     ]
    }
   ],
   "source": [
    "array = np.full(shape=(4,4,4),fill_value= 6)\n",
    "print(array.ndim)\n",
    "print(array)"
   ]
  },
  {
   "cell_type": "code",
   "execution_count": 79,
   "metadata": {},
   "outputs": [
    {
     "data": {
      "text/plain": [
       "6"
      ]
     },
     "execution_count": 79,
     "metadata": {},
     "output_type": "execute_result"
    }
   ],
   "source": [
    "array[2,2,2]"
   ]
  },
  {
   "cell_type": "code",
   "execution_count": 84,
   "metadata": {},
   "outputs": [
    {
     "name": "stdout",
     "output_type": "stream",
     "text": [
      "[[0.36841993 0.52423909 0.91945999 0.98166775 0.56797478]\n",
      " [0.90415934 0.78027005 0.9542214  0.30715203 0.15904079]\n",
      " [0.48936067 0.74331228 0.70773832 0.811435   0.31803523]\n",
      " [0.27726096 0.15672202 0.47439508 0.42886649 0.08414993]\n",
      " [0.06582664 0.64230793 0.24063856 0.32329842 0.36201645]]\n"
     ]
    }
   ],
   "source": [
    "array = np.random.rand(5,5)\n",
    "print(array)\n",
    "numbers = 0\n",
    "between = 0\n",
    "array = np.random.rand(number,between)\n"
   ]
  },
  {
   "cell_type": "code",
   "execution_count": 91,
   "metadata": {},
   "outputs": [
    {
     "data": {
      "text/plain": [
       "0.707738321299472"
      ]
     },
     "execution_count": 91,
     "metadata": {},
     "output_type": "execute_result"
    }
   ],
   "source": [
    "array[2,2]"
   ]
  },
  {
   "cell_type": "code",
   "execution_count": 103,
   "metadata": {},
   "outputs": [
    {
     "name": "stdout",
     "output_type": "stream",
     "text": [
      "(array([], dtype=int64),)\n"
     ]
    }
   ],
   "source": [
    "a = np.arange(1,10)\n",
    "b = np.arange(2,11)\n",
    "\n",
    "c = np.where(a == b)\n",
    "print(c)\n",
    "\n"
   ]
  },
  {
   "cell_type": "code",
   "execution_count": 105,
   "metadata": {},
   "outputs": [
    {
     "data": {
      "text/plain": [
       "(array([ 5,  6,  7,  8,  9, 10]),)"
      ]
     },
     "execution_count": 105,
     "metadata": {},
     "output_type": "execute_result"
    }
   ],
   "source": [
    "a = np.arange(15)\n",
    "\n",
    "index = np.where((a >= 5) & (a <= 10))\n",
    "index"
   ]
  },
  {
   "cell_type": "code",
   "execution_count": 108,
   "metadata": {},
   "outputs": [
    {
     "name": "stdout",
     "output_type": "stream",
     "text": [
      "7.0\n"
     ]
    },
    {
     "data": {
      "text/plain": [
       "array([ 5,  6,  7,  8,  9, 10])"
      ]
     },
     "execution_count": 108,
     "metadata": {},
     "output_type": "execute_result"
    }
   ],
   "source": [
    "a = np.arange(15)\n",
    "print(np.mean(a))\n",
    "a[(a > 4) & (a < 11 )]"
   ]
  },
  {
   "cell_type": "code",
   "execution_count": 111,
   "metadata": {},
   "outputs": [
    {
     "data": {
      "text/plain": [
       "dtype('int64')"
      ]
     },
     "execution_count": 111,
     "metadata": {},
     "output_type": "execute_result"
    }
   ],
   "source": [
    "import numpy as np\n",
    "array = np.array([1,2,3,4])\n",
    "array.dtype"
   ]
  },
  {
   "cell_type": "code",
   "execution_count": 112,
   "metadata": {},
   "outputs": [
    {
     "data": {
      "text/plain": [
       "dtype('float64')"
      ]
     },
     "execution_count": 112,
     "metadata": {},
     "output_type": "execute_result"
    }
   ],
   "source": [
    "import numpy as np\n",
    "array = np.array([1,2,3,4], dtype = \"float64\")\n",
    "array.dtype"
   ]
  },
  {
   "cell_type": "code",
   "execution_count": 122,
   "metadata": {},
   "outputs": [
    {
     "name": "stdout",
     "output_type": "stream",
     "text": [
      "(2, 2)\n",
      "2\n"
     ]
    }
   ],
   "source": [
    "array = np.array([1,2,3,4]).reshape(2,2)\n",
    "print(array.shape)#Saber la cantidad de datos del arreglo\n",
    "print(array.ndim)#Saber la dimension del arreglo"
   ]
  },
  {
   "cell_type": "code",
   "execution_count": 123,
   "metadata": {},
   "outputs": [
    {
     "name": "stdout",
     "output_type": "stream",
     "text": [
      "[[[[[[[[[[1 2 3 4]]]]]]]]]]\n"
     ]
    }
   ],
   "source": [
    "array = np.array([1,2,3,4], ndmin= 10)\n",
    "print(array)"
   ]
  },
  {
   "cell_type": "code",
   "execution_count": 124,
   "metadata": {},
   "outputs": [
    {
     "data": {
      "text/plain": [
       "array([[1, 2, 3, 4]])"
      ]
     },
     "execution_count": 124,
     "metadata": {},
     "output_type": "execute_result"
    }
   ],
   "source": [
    "array = np.array([1,2,3,4])\n",
    "np.expand_dims(array,axis=0)"
   ]
  },
  {
   "cell_type": "code",
   "execution_count": 126,
   "metadata": {},
   "outputs": [
    {
     "name": "stdout",
     "output_type": "stream",
     "text": [
      "[[[[1 2 3 4 5]]]]\n",
      "[1 2 3 4 5]\n"
     ]
    }
   ],
   "source": [
    "array = np.array([1,2,3,4,5],ndmin= 4) #Tensor\n",
    "print(array)\n",
    "print(np.squeeze(array)) #Reduce al numero de dimensiones utiles"
   ]
  },
  {
   "cell_type": "code",
   "execution_count": 136,
   "metadata": {},
   "outputs": [
    {
     "name": "stdout",
     "output_type": "stream",
     "text": [
      "6\n",
      "[[[[[[1 2 3]\n",
      "     [1 2 3]\n",
      "     [2 4 6]]]]]]\n",
      "[[1 2 3]\n",
      " [1 2 3]\n",
      " [2 4 6]]\n"
     ]
    }
   ],
   "source": [
    "array = np.array([[[1,2,3],[1,2,3],[2,4,6]]],ndmin= 6)\n",
    "print(array.ndim)\n",
    "print(array)\n",
    "print(np.squeeze(array))"
   ]
  },
  {
   "cell_type": "code",
   "execution_count": 139,
   "metadata": {},
   "outputs": [
    {
     "data": {
      "text/plain": [
       "array([  1.,  12.,  23.,  34.,  45.,  56.,  67.,  78.,  89., 100.])"
      ]
     },
     "execution_count": 139,
     "metadata": {},
     "output_type": "execute_result"
    }
   ],
   "source": [
    "#Creando arrays\n",
    "\n",
    "np.random.rand(10)\n",
    "np.linspace(start=1,stop=100,num=10)"
   ]
  },
  {
   "cell_type": "code",
   "execution_count": 140,
   "metadata": {},
   "outputs": [
    {
     "data": {
      "text/plain": [
       "array([[1., 0., 0., 0.],\n",
       "       [0., 1., 0., 0.],\n",
       "       [0., 0., 1., 0.],\n",
       "       [0., 0., 0., 1.]])"
      ]
     },
     "execution_count": 140,
     "metadata": {},
     "output_type": "execute_result"
    }
   ],
   "source": [
    "\n",
    "np.eye(4)"
   ]
  },
  {
   "cell_type": "code",
   "execution_count": 146,
   "metadata": {},
   "outputs": [
    {
     "name": "stdout",
     "output_type": "stream",
     "text": [
      "[[0.0049433  0.96209754 0.02299743 0.29735579]\n",
      " [0.62508979 0.85358616 0.34586771 0.03765247]\n",
      " [0.96376821 0.47995623 0.45014178 0.61734945]\n",
      " [0.2722079  0.64041451 0.67292721 0.98772568]]\n",
      "[0.02299743 0.34586771 0.45014178 0.67292721]\n"
     ]
    }
   ],
   "source": [
    "array = np.random.rand(4,4)\n",
    "print(array)\n",
    "print(array[:,2])"
   ]
  },
  {
   "cell_type": "code",
   "execution_count": 155,
   "metadata": {},
   "outputs": [
    {
     "name": "stdout",
     "output_type": "stream",
     "text": [
      "[[7 3 4]\n",
      " [9 9 3]]\n",
      "[[7 3]\n",
      " [4 9]\n",
      " [9 3]]\n"
     ]
    }
   ],
   "source": [
    "#Shape y Reshape\n",
    "\n",
    "arr = np.random.randint(1,10,(3,2)).reshape((2,3))\n",
    "print(arr)\n",
    "print(np.reshape(arr,(3,2)))\n"
   ]
  },
  {
   "cell_type": "code",
   "execution_count": 156,
   "metadata": {},
   "outputs": [],
   "source": [
    "import numpy as np\n"
   ]
  },
  {
   "cell_type": "code",
   "execution_count": 163,
   "metadata": {},
   "outputs": [
    {
     "name": "stdout",
     "output_type": "stream",
     "text": [
      "[[12 19 11 11 19]\n",
      " [19  4  8 17 19]]\n",
      "1\n"
     ]
    }
   ],
   "source": [
    "arr = np.random.randint(1,20,10)\n",
    "\n",
    "matrix = arr.reshape(2,5)\n",
    "print(matrix)\n",
    "print(matrix.argmax())"
   ]
  },
  {
   "cell_type": "code",
   "execution_count": 164,
   "metadata": {},
   "outputs": [
    {
     "data": {
      "text/plain": [
       "15"
      ]
     },
     "execution_count": 164,
     "metadata": {},
     "output_type": "execute_result"
    }
   ],
   "source": [
    "arr.ptp()"
   ]
  },
  {
   "cell_type": "code",
   "execution_count": 166,
   "metadata": {},
   "outputs": [
    {
     "name": "stdout",
     "output_type": "stream",
     "text": [
      "5038288176\n",
      "5038287408\n"
     ]
    }
   ],
   "source": [
    "arreglo = np.array([1,2,3,4,5])\n",
    "arreglo2 = arreglo.copy()\n",
    "print(id(arreglo))   #Tienen id diferente\n",
    "print(id(arreglo2))"
   ]
  },
  {
   "cell_type": "code",
   "execution_count": 167,
   "metadata": {},
   "outputs": [
    {
     "name": "stdout",
     "output_type": "stream",
     "text": [
      "[100 100 100 100 100]\n",
      "[1 2 3 4 5]\n"
     ]
    }
   ],
   "source": [
    "arreglo[:] = 100\n",
    "print(arreglo)\n",
    "print(arreglo2)"
   ]
  },
  {
   "cell_type": "code",
   "execution_count": 169,
   "metadata": {},
   "outputs": [
    {
     "data": {
      "text/plain": [
       "array([ 1,  2,  3,  4,  5,  6,  7,  8,  9, 10], dtype=int8)"
      ]
     },
     "execution_count": 169,
     "metadata": {},
     "output_type": "execute_result"
    }
   ],
   "source": [
    "#Condiciones >> Retornar aspectos especificos\n",
    "\n",
    "array = np.linspace(1,10,10,dtype=\"int8\")\n",
    "array\n",
    "\n"
   ]
  },
  {
   "cell_type": "code",
   "execution_count": 173,
   "metadata": {},
   "outputs": [
    {
     "data": {
      "text/plain": [
       "array([ 6,  7,  8,  9, 10], dtype=int8)"
      ]
     },
     "execution_count": 173,
     "metadata": {},
     "output_type": "execute_result"
    }
   ],
   "source": [
    "indices = array[array > 5]\n",
    "indices"
   ]
  },
  {
   "cell_type": "code",
   "execution_count": 176,
   "metadata": {},
   "outputs": [
    {
     "data": {
      "text/plain": [
       "array([ 1,  2,  3,  4,  5, 10, 10,  8,  9, 10], dtype=int8)"
      ]
     },
     "execution_count": 176,
     "metadata": {},
     "output_type": "execute_result"
    }
   ],
   "source": [
    "array[(array > 5 ) & (array < 8)] = 10\n",
    "array"
   ]
  },
  {
   "cell_type": "code",
   "execution_count": 183,
   "metadata": {},
   "outputs": [
    {
     "data": {
      "text/plain": [
       "array([3, 4, 5, 6, 7, 8])"
      ]
     },
     "execution_count": 183,
     "metadata": {},
     "output_type": "execute_result"
    }
   ],
   "source": [
    "array1 = np.array([1,2,3,4,5,6])\n",
    "array2 = array1.copy()\n",
    "array2 + 2\n"
   ]
  },
  {
   "cell_type": "code",
   "execution_count": 180,
   "metadata": {},
   "outputs": [
    {
     "data": {
      "text/plain": [
       "array([ 1,  4,  9, 16, 25])"
      ]
     },
     "execution_count": 180,
     "metadata": {},
     "output_type": "execute_result"
    }
   ],
   "source": [
    "array1 * array2"
   ]
  },
  {
   "cell_type": "code",
   "execution_count": 185,
   "metadata": {},
   "outputs": [
    {
     "name": "stdout",
     "output_type": "stream",
     "text": [
      "[[1 2 3]\n",
      " [4 5 6]]\n"
     ]
    }
   ],
   "source": [
    "matriz = array1.reshape(2,3)\n",
    "print(matriz)"
   ]
  }
 ],
 "metadata": {
  "kernelspec": {
   "display_name": "Python 3",
   "language": "python",
   "name": "python3"
  },
  "language_info": {
   "codemirror_mode": {
    "name": "ipython",
    "version": 3
   },
   "file_extension": ".py",
   "mimetype": "text/x-python",
   "name": "python",
   "nbconvert_exporter": "python",
   "pygments_lexer": "ipython3",
   "version": "3.11.7"
  }
 },
 "nbformat": 4,
 "nbformat_minor": 2
}
